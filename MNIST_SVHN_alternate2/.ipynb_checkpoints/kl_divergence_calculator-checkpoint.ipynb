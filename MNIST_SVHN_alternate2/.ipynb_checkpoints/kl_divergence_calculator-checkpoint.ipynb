{
 "cells": [
  {
   "cell_type": "code",
   "execution_count": 1,
   "id": "upset-adams",
   "metadata": {},
   "outputs": [],
   "source": [
    "import torch"
   ]
  },
  {
   "cell_type": "code",
   "execution_count": null,
   "id": "special-fourth",
   "metadata": {},
   "outputs": [],
   "source": [
    "\n",
    "device = torch.device('cuda' if torch.cuda.is_available() else 'cpu')\n",
    "class kl_divergence():\n",
    "    def __init__(self, latent_dim1, latent_dim2, batch_size):\n",
    "        self.latent_dim1 = latent_dim1\n",
    "        self.latent_dim2 = latent_dim2\n",
    "        self.batch_size = batch_size\n",
    "\n",
    "    def calc(self,G,z1,z2,z1_prior,z2_prior,mu1,log_var1,mu2,log_var2):\n",
    "        ## Creating Sufficient statistics\n",
    "        T1_prior = torch.cat((z1_prior,torch.square(z1_prior)),1)     # sufficient statistics for prior of set1\n",
    "        T2_prior = torch.cat((z2_prior,torch.square(z2_prior)),1)     # sufficient statistics for prior of set2\n",
    "        T1_post = torch.cat((z1,torch.square(z1)),1)                  # sufficient statistics for posterior of set1\n",
    "        T2_post = torch.cat((z2,torch.square(z2)),1)                  # sufficient statistics for posterior of set2\n",
    "        lambda1 = torch.cat((mu1,log_var1),1)                         # Output of encoder for set1\n",
    "        lambda2 = torch.cat((mu2,log_var2),1)                         # Output of encoder for set2 \n",
    "        T_prior_sqrd = torch.sum(torch.square(z1_prior),1) +torch.sum(torch.square(z2_prior),1) #stores z^2+z'^2\n",
    "        T_post_sqrd  = torch.sum(torch.square(z1),1) +torch.sum(torch.square(z2),1)\n",
    "        T1_prior_unsq = T1_prior.unsqueeze(2)       #[128, 2]->[128, 64,1]\n",
    "        T2_prior_unsq = T2_prior.unsqueeze(1)       #[128, 64]->[128, 1,32]\n",
    "        T1_post_unsq  = T1_post.unsqueeze(2)        #[128, 2]->[128, 64,1]\n",
    "        T2_post_unsq  = T2_post.unsqueeze(1)        #[128, 64]->[128, 1,32]\n",
    "        Tprior_kron=torch.zeros(self.batch_size,2*self.latent_dim1,2*self.latent_dim2).to(device)   #[128, 64,32]\n",
    "        Tpost_kron=torch.zeros(self.batch_size,2*self.latent_dim1,2*self.latent_dim2).to(device)    #[128, 64,32]  \n",
    "       \n",
    "        for i in range(self.batch_size):\n",
    "            Tprior_kron[i,:]=torch.kron(T1_prior_unsq[i,:], T2_prior_unsq[i,:])\n",
    "            Tpost_kron[i,:]=torch.kron(T1_post_unsq[i,:], T2_post_unsq[i,:])    \n",
    "            \n",
    "        part_fun0 = self.dot_product(lambda1,T1_post)+self.dot_product(lambda2,T2_post)\n",
    "        part_fun1 = -self.dot_product(lambda1,T1_post.detach())-self.dot_product(lambda2,T2_post.detach()) #-lambda*Tq-lambda'Tq'    \n",
    "        part_fun2 = self.dot_product(Tprior_kron.detach(),G)-self.dot_product(Tpost_kron.detach(),G)\n",
    "\n",
    "        \n",
    "        return part_fun0,part_fun1,part_fun2\n",
    "    def dot_product(self,tensor_1,tensor_2):\n",
    "        out = torch.sum(torch.mul(tensor_1,tensor_2))\n",
    "\n",
    "        return out"
   ]
  }
 ],
 "metadata": {
  "kernelspec": {
   "display_name": "achint-env2",
   "language": "python",
   "name": "achint-env2"
  },
  "language_info": {
   "codemirror_mode": {
    "name": "ipython",
    "version": 3
   },
   "file_extension": ".py",
   "mimetype": "text/x-python",
   "name": "python",
   "nbconvert_exporter": "python",
   "pygments_lexer": "ipython3",
   "version": "3.8.10"
  }
 },
 "nbformat": 4,
 "nbformat_minor": 5
}
