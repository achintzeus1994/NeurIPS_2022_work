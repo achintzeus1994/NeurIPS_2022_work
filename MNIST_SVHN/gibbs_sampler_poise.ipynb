{
 "cells": [
  {
   "cell_type": "code",
   "execution_count": 1,
   "id": "furnished-supervision",
   "metadata": {},
   "outputs": [],
   "source": [
    "import torch\n",
    "import torch.nn as nn\n",
    "device = torch.device('cuda' if torch.cuda.is_available() else 'cpu')"
   ]
  },
  {
   "cell_type": "code",
   "execution_count": 2,
   "id": "varying-joseph",
   "metadata": {},
   "outputs": [],
   "source": [
    "class gibbs_sampler():\n",
    "    def __init__(self,latent_dim1, latent_dim2, batch_size):\n",
    "        self.latent_dim1 = latent_dim1\n",
    "        self.latent_dim2 = latent_dim2\n",
    "        self.batch_size = batch_size\n",
    "    def var_calc(self,z,g22,lambda_2):\n",
    "        val   = 2*(1-torch.matmul(torch.square(z),g22)-lambda_2)\n",
    "        return torch.reciprocal(val)\n",
    "    def mean_calc(self,z,var,g11,lambda_1):\n",
    "        beta = torch.matmul(z,g11)+lambda_1\n",
    "        return var*beta\n",
    "    def value_calc(self,z,g11,g22,lambda_1,lambda_2):\n",
    "        var1          = self.var_calc(z,g22,lambda_2)\n",
    "        mean1         = self.mean_calc(z,var1,g11,lambda_1)\n",
    "        out           = mean1+torch.sqrt(var1.float())*torch.randn_like(var1)\n",
    "        return out\n",
    "    def gibbs_sample(self,flag,z1,z2,g11,g22,lambda_1,lambda_2,lambdap_1,lambdap_2,n_iterations):\n",
    "\n",
    "        if flag == 1:\n",
    "            z1 = torch.randn(self.batch_size,self.latent_dim1).to(device)       ## \n",
    "            z2 = torch.randn(self.batch_size,self.latent_dim2).to(device)       ## For estimating z' in  q(z'|z,x)\n",
    "            \n",
    "        for i in range(n_iterations):\n",
    "            z1  = self.value_calc(z2,torch.transpose(g11,0,1),torch.transpose(g22,0,1),lambda_1,lambda_2) \n",
    "            z2  = self.value_calc(z1,g11,g22,lambdap_1,lambdap_2) \n",
    "\n",
    "        return z1,z2       "
   ]
  },
  {
   "cell_type": "code",
   "execution_count": null,
   "id": "continuous-roommate",
   "metadata": {},
   "outputs": [],
   "source": []
  }
 ],
 "metadata": {
  "kernelspec": {
   "display_name": "achint-env2",
   "language": "python",
   "name": "achint-env2"
  },
  "language_info": {
   "codemirror_mode": {
    "name": "ipython",
    "version": 3
   },
   "file_extension": ".py",
   "mimetype": "text/x-python",
   "name": "python",
   "nbconvert_exporter": "python",
   "pygments_lexer": "ipython3",
   "version": "3.8.10"
  }
 },
 "nbformat": 4,
 "nbformat_minor": 5
}
