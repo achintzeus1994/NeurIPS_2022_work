{
 "cells": [
  {
   "cell_type": "code",
   "execution_count": 1,
   "id": "major-farming",
   "metadata": {},
   "outputs": [
    {
     "name": "stdout",
     "output_type": "stream",
     "text": [
      "importing Jupyter notebook from importance_sampler_poise.ipynb\n",
      "importing Jupyter notebook from kl_divergence_calculator.ipynb\n"
     ]
    }
   ],
   "source": [
    "import torch\n",
    "import numpy as np\n",
    "from torch.utils.data import DataLoader\n",
    "import matplotlib\n",
    "import matplotlib.pyplot as plt\n",
    "import import_ipynb\n",
    "import importance_sampler_poise\n",
    "import kl_divergence_calculator\n",
    "import torch.nn as nn\n",
    "import torch.optim as optim\n",
    "from torch.nn import functional as F  #for the activation function\n",
    "from torchviz import make_dot\n",
    "import random\n",
    "import umap\n",
    "from numpy import prod, sqrt\n",
    "from tqdm import tqdm\n",
    "from copy import deepcopy"
   ]
  },
  {
   "cell_type": "code",
   "execution_count": 2,
   "id": "mature-survivor",
   "metadata": {},
   "outputs": [],
   "source": [
    "## Creating synthetic datasets\n",
    "NUM_SAMPLES = 5000\n",
    "\n",
    "MEAN = torch.tensor([0.0, 0.0], dtype=torch.float32)\n",
    "VARIANCE = torch.tensor([1.0, 1.0], dtype=torch.float32)\n",
    "\n",
    "DEBUG = True\n",
    "\n",
    "## Hyperparameters\n",
    "BATCH_SIZE = 128\n",
    "LATENT_DIM = [(1,), (1,)]\n",
    "LEARNING_RATE = 1e-3\n",
    "DEVICE     = torch.device('cuda' if torch.cuda.is_available() else 'cpu')\n",
    "\n",
    "## IMPORTANCE SAMPLING PARAMETERS\n",
    "NUM_IW_SAMPLES = 10 # TODO: WHAT IS THIS?\n",
    "\n",
    "# OTHER PARAMETERS\n",
    "DIM_EXP = 2 # DIMENSION TO CONVERT THE 1D DATA TO. "
   ]
  },
  {
   "cell_type": "code",
   "execution_count": 3,
   "id": "bizarre-rwanda",
   "metadata": {},
   "outputs": [],
   "source": [
    "# def sample_data(mu1,var1, nb_samples):\n",
    "#     dim1 = mu1.size()[0]\n",
    "#     mn1  = torch.distributions.MultivariateNormal(mu1, var1 * torch.eye(dim1))\n",
    "#     return [mn1.sample([nb_samples,])]\n",
    "# mu1  =8+torch.zeros(DIM_EXP)   \n",
    "# var1 =3.0\n",
    "# data1 = sample_data(mu1,var1,NUM_SAMPLES) \n",
    "# data1 = data1[0]\n",
    "# data2 = data1-16.0"
   ]
  },
  {
   "cell_type": "code",
   "execution_count": 4,
   "id": "beautiful-court",
   "metadata": {},
   "outputs": [
    {
     "data": {
      "image/png": "[encoded data removed]",
      "text/plain": [
       "<Figure size 432x288 with 1 Axes>"
      ]
     },
     "metadata": {
      "needs_background": "light"
     },
     "output_type": "display_data"
    }
   ],
   "source": [
    "def sample(mu, var, nb_samples):\n",
    "    \"\"\"\n",
    "    :param mu: torch.Tensor (features)\n",
    "    :param var: torch.Tensor (features) (note: zero covariance)\n",
    "    :return: torch.Tensor (nb_samples, features)\n",
    "    \"\"\"\n",
    "    out = []\n",
    "    for i in range(nb_samples):\n",
    "        out += [torch.normal(mu, var.sqrt())]\n",
    "    return torch.stack(out, dim=0)\n",
    "## Creating synthetic datasets\n",
    "nb_samples=5000\n",
    "mu1  =torch.tensor(0.)   # . converts long to float\n",
    "var1 =torch.tensor(1.0)\n",
    "mu2  =torch.tensor(0.)   # . converts long to float\n",
    "var2 =torch.tensor(1.0)\n",
    "\n",
    "inp_data1=sample(mu1,var1,NUM_SAMPLES)  \n",
    "inp_data1=inp_data1.unsqueeze(0)+torch.randn_like(inp_data1)##Adding gaussian noise to data\n",
    "inp_data1=torch.transpose(inp_data1,0,1)\n",
    "\n",
    "inp_data2=sample(mu2,var2,NUM_SAMPLES)\n",
    "inp_data2=inp_data2.unsqueeze(0)+torch.randn_like(inp_data2)  ##Adding gaussian noise to data\n",
    "inp_data2=torch.transpose(inp_data2,0,1)\n",
    "## Transforming data to a higher dimension\n",
    "\"\"\"\n",
    "inp_data= samplesx1\n",
    "fun_A   = 1xdim_exp\n",
    "data    = samplesxdim_exp   (data = inp_dataxfun_A)\n",
    "\"\"\"\n",
    "dim_exp = 2\n",
    "#fun_A1   = torch.normal(0, 1, size=(1, dim_exp))  ## random tensor of size dim_expxdata_samples mean=0, var=1, s\n",
    "#fun_A2   = torch.normal(0, 1, size=(1, dim_exp))  ## random tensor of size dim_expxdata_samples mean=0, var=1, s\n",
    "fun_A1 = torch.tensor([1,1])\n",
    "fun_A2 = torch.tensor([1,-1])\n",
    "data1    = inp_data1*fun_A1\n",
    "data2    = inp_data2*fun_A2\n",
    "x1_cord = data1[:,0]\n",
    "y1_cord = data1[:,1]\n",
    "x2_cord = data2[:,0]\n",
    "y2_cord = data2[:,1]\n",
    "plt.plot(x1_cord,y1_cord, 'o', color='black')\n",
    "plt.plot(x2_cord,y2_cord, 'o', color='red')\n",
    "plt.show()"
   ]
  },
  {
   "cell_type": "code",
   "execution_count": 5,
   "id": "frequent-challenge",
   "metadata": {},
   "outputs": [],
   "source": [
    "train_loader_set1 = DataLoader(data1[:int(0.8 * NUM_SAMPLES),], batch_size=BATCH_SIZE, shuffle=True, drop_last=True)\n",
    "test_loader_set1 = DataLoader(\n",
    "    data1[int(0.8*NUM_SAMPLES):,],\n",
    "    batch_size=BATCH_SIZE,\n",
    "    shuffle=True,\n",
    "    drop_last=True\n",
    ")\n",
    "train_loader_set2 = DataLoader(\n",
    "    data2[:int(0.8*NUM_SAMPLES),],\n",
    "    batch_size=BATCH_SIZE,\n",
    "    shuffle=True,\n",
    "    drop_last=True\n",
    ")\n",
    "test_loader_set2 = DataLoader(\n",
    "    data2[int(0.8*NUM_SAMPLES):,],\n",
    "    batch_size=BATCH_SIZE,\n",
    "    shuffle=True,\n",
    "    drop_last=True\n",
    ")"
   ]
  },
  {
   "cell_type": "code",
   "execution_count": 6,
   "id": "entertaining-maple",
   "metadata": {},
   "outputs": [],
   "source": [
    "class Enc(nn.Module): # Linear\n",
    "    def __init__(self, DIM_EXP):\n",
    "        super().__init__()\n",
    "        self.enc = nn.Sequential(nn.Linear(DIM_EXP, 2), \n",
    "                                 nn.LeakyReLU(inplace=True))\n",
    "        self.nu1 = nn.Linear(2, 1)\n",
    "        self.log_nu2 = nn.Linear(2, 1)\n",
    "    def forward(self, x):\n",
    "        x = self.enc(x)\n",
    "        return self.nu1(x), self.log_nu2(x)\n",
    "    \n",
    "class Dec(nn.Module): \n",
    "    def __init__(self, DIM_EXP):\n",
    "        super().__init__()\n",
    "        self.dec = nn.Sequential(nn.Linear(1, 2), \n",
    "                                 nn.LeakyReLU(inplace=True),\n",
    "                                 nn.Linear(2, DIM_EXP))\n",
    "    def forward(self, z):\n",
    "        return self.dec(z), torch.tensor(1).to(z.device)"
   ]
  },
  {
   "cell_type": "code",
   "execution_count": 7,
   "id": "dressed-partnership",
   "metadata": {},
   "outputs": [],
   "source": [
    "enc1 = Enc(DIM_EXP).to(DEVICE)\n",
    "dec1 = Dec(DIM_EXP).to(DEVICE)\n",
    "enc2 = Enc(DIM_EXP).to(DEVICE)\n",
    "dec2 = Dec(DIM_EXP).to(DEVICE)\n",
    "encoders_list = [enc1, enc2]\n",
    "decoders_list = [dec1, dec2] "
   ]
  },
  {
   "cell_type": "code",
   "execution_count": 8,
   "id": "capable-brazil",
   "metadata": {},
   "outputs": [],
   "source": [
    "class VAE(nn.Module):\n",
    "    def __init__(self, encoders_list, decoders_list, num_IW_samples, latent_dims, batch_size):\n",
    "        super(VAE,self).__init__()\n",
    "        self.encoders = nn.ModuleList(encoders_list)\n",
    "        self.decoders = nn.ModuleList(decoders_list)\n",
    "        self.proposal = nn.ModuleList(deepcopy(encoder) for encoder in self.encoders)\n",
    "        self.latent_dims = latent_dims\n",
    "        self.batch_size = batch_size\n",
    "        self.num_IW_samples = num_IW_samples\n",
    "        self.register_parameter(name='g11', param = nn.Parameter(torch.randn(*self.latent_dims[0],*self.latent_dims[1])))\n",
    "        self.register_parameter(name='g22', param = nn.Parameter(torch.randn(*self.latent_dims[0],*self.latent_dims[1])))    \n",
    "        self.IS_sampler = importance_sampler_poise.importance_sampler(*self.latent_dims[0], *self.latent_dims[1], self.batch_size)\n",
    "        self.kl_div = kl_divergence_calculator.kl_divergence(*self.latent_dims[0], *self.latent_dims[1], self.batch_size)\n",
    "    def get_G(self):\n",
    "        g12   = torch.zeros(*self.latent_dims[0],*self.latent_dims[1]).to(DEVICE)\n",
    "        g22   = -torch.exp(self.g22)        \n",
    "        G1 = torch.cat((self.g11, g12), 0)\n",
    "        G2 = torch.cat((g12, g22), 0)\n",
    "        G  = torch.cat((G1, G2), 1)\n",
    "        return G\n",
    "    def weighted_mse_loss(self,weights,reconstruction,data):\n",
    "        #weights :[batch_size], reconstruction: [batch_size,2], data: [batch_size,2] , loss: #\n",
    "        loss = torch.sum(weights * ((data - reconstruction) ** 2).T)\n",
    "        return loss  \n",
    "    def encode(self, x):\n",
    "        \"\"\"\n",
    "        Encode the samples from multiple sources\n",
    "        Parameter\n",
    "        ---------\n",
    "        x: list of torch.Tensor\n",
    "        Return\n",
    "        ------\n",
    "        z: list of torch.Tensor\n",
    "        \"\"\"\n",
    "        nu1, nu2 = [], []\n",
    "        for i, xi in enumerate(x):\n",
    "            batch_size = xi.shape[0] \n",
    "            _nu1, _log_nu2 = self.encoders[i](xi)\n",
    "            nu1.append(_nu1.view(batch_size, -1))\n",
    "            nu2.append(-torch.exp(_log_nu2.view(batch_size, -1)))\n",
    "        return nu1, nu2\n",
    "    def decode(self, z):\n",
    "        \"\"\"\n",
    "        Unsqueeze the samples from each latent space (if necessary), and decode\n",
    "        Parameter\n",
    "        ---------\n",
    "        z: list of torch.Tensor\n",
    "        Return\n",
    "        ------\n",
    "        x_rec: list of torch.Tensor\n",
    "        \"\"\"\n",
    "        x_rec = []\n",
    "        for decoder, zi, ld in zip(self.decoders, z, self.latent_dims):\n",
    "            batch_shape = zi.shape[:-1]\n",
    "            zi = zi.view(prod(batch_shape), *ld) # Match the shape to the output\n",
    "            x_ = list(decoder(zi))\n",
    "            x_[0] = x_[0].view(*batch_shape, *x_[0].shape[1:])\n",
    "            x_rec.append(x_)\n",
    "        return x_rec\n",
    "    def forward(self, x):\n",
    "        data1 = x[0]\n",
    "        data2 = x[1]\n",
    "        nu1, nu2 = self.encode(x)\n",
    "        mu1 = nu1[0]\n",
    "        mu2 = nu1[1]\n",
    "        var1  = -nu2[0]\n",
    "        var2  = -nu2[1]\n",
    "        G = self.get_G()\n",
    "        prop_mean, prop_var = [], []\n",
    "        for i, xi in enumerate(x):\n",
    "            batch_size = xi.shape[0] \n",
    "            _nu1, _log_nu2 = self.proposal[i](xi)\n",
    "            prop_mean.append(_nu1.view(batch_size, -1))\n",
    "            prop_var.append(-torch.exp(_log_nu2.view(batch_size, -1)))\n",
    "        prop_mean1 = prop_mean[0]\n",
    "        prop_mean2 = prop_mean[1]\n",
    "        prop_var1 = -prop_var[0]\n",
    "        prop_var2 = -prop_var[1]\n",
    "        z1_posterior,z2_posterior,IS_weights_post = self.IS_sampler.calc(G, mu1, var1, mu2, var2,self.num_IW_samples,prop_mean1,prop_var1,prop_mean2,prop_var2)        \n",
    "#         IS_weights_post = torch.zeros_like(IS_weights_post)+0.1\n",
    "\n",
    "        ## decoding\n",
    "        loss = 0\n",
    "        weighted_reconstruction1 = torch.zeros_like(data1)              #[batch_size,2]\n",
    "        weighted_reconstruction2 = torch.zeros_like(data2)\n",
    "        for i in range(self.num_IW_samples):\n",
    "            self.z1_IS_posterior = z1_posterior[i]\n",
    "            self.z2_IS_posterior = z2_posterior[i]\n",
    "            z = [self.z1_IS_posterior,self.z2_IS_posterior]\n",
    "#             part_fun0,part_fun1,part_fun2 = self.kl_div.calc(G,self.z1_IS_posterior,self.z2_IS_posterior,self.z1_IS_prior,self.z2_IS_prior,mu1,var1,mu2,var2)    \n",
    "            x_rec = self.decode(z)\n",
    "            reconstruction1 = x_rec[0][0]\n",
    "            reconstruction2 = x_rec[1][0]\n",
    "            ## loss\n",
    "\n",
    "            MSE1 = self.weighted_mse_loss(IS_weights_post[i,:],reconstruction1, data1)\n",
    "            MSE2 = self.weighted_mse_loss(IS_weights_post[i,:],reconstruction2, data2)\n",
    "            loss = loss + MSE1 + MSE2 \n",
    "#             print('IS_weights_post',torch.sum(IS_weights_post[i,:]))\n",
    "#             print('MSE1',torch.sum(MSE1))\n",
    "#             print('MSE2',torch.sum(MSE2))\n",
    "#             print('loss',torch.sum(loss))\n",
    "#             print('reconstruction1',torch.sum(reconstruction1))\n",
    "#             print('reconstruction2',torch.sum(reconstruction2))\n",
    "            weighted_reconstruction1 = weighted_reconstruction1 + (IS_weights_post[i,:]*reconstruction1.T).T\n",
    "            weighted_reconstruction2 = weighted_reconstruction2 + (IS_weights_post[i,:]*reconstruction2.T).T\n",
    "#         print(IS_weights_post[:,i].size())\n",
    "#         print('hello',IS_weights_post[i,:].size())\n",
    "        return weighted_reconstruction1,weighted_reconstruction2,mu1,var1,mu2,var2,loss"
   ]
  },
  {
   "cell_type": "code",
   "execution_count": 9,
   "id": "major-sapphire",
   "metadata": {},
   "outputs": [
    {
     "name": "stdout",
     "output_type": "stream",
     "text": [
      "g11\n",
      "g22\n",
      "encoders.0.enc.0.weight\n",
      "encoders.0.enc.0.bias\n",
      "encoders.0.nu1.weight\n",
      "encoders.0.nu1.bias\n",
      "encoders.0.log_nu2.weight\n",
      "encoders.0.log_nu2.bias\n",
      "encoders.1.enc.0.weight\n",
      "encoders.1.enc.0.bias\n",
      "encoders.1.nu1.weight\n",
      "encoders.1.nu1.bias\n",
      "encoders.1.log_nu2.weight\n",
      "encoders.1.log_nu2.bias\n",
      "decoders.0.dec.0.weight\n",
      "decoders.0.dec.0.bias\n",
      "decoders.0.dec.2.weight\n",
      "decoders.0.dec.2.bias\n",
      "decoders.1.dec.0.weight\n",
      "decoders.1.dec.0.bias\n",
      "decoders.1.dec.2.weight\n",
      "decoders.1.dec.2.bias\n",
      "proposal.0.enc.0.weight\n",
      "proposal.0.enc.0.bias\n",
      "proposal.0.nu1.weight\n",
      "proposal.0.nu1.bias\n",
      "proposal.0.log_nu2.weight\n",
      "proposal.0.log_nu2.bias\n",
      "proposal.1.enc.0.weight\n",
      "proposal.1.enc.0.bias\n",
      "proposal.1.nu1.weight\n",
      "proposal.1.nu1.bias\n",
      "proposal.1.log_nu2.weight\n",
      "proposal.1.log_nu2.bias\n"
     ]
    }
   ],
   "source": [
    "model = VAE(encoders_list, decoders_list, num_IW_samples =NUM_IW_SAMPLES, latent_dims = LATENT_DIM, batch_size = BATCH_SIZE).to(DEVICE)\n",
    "optimizer = optim.Adam(model.parameters(),lr=LEARNING_RATE)\n",
    "for name, para in model.named_parameters():\n",
    "    print(name)"
   ]
  },
  {
   "cell_type": "code",
   "execution_count": 10,
   "id": "enhanced-clinton",
   "metadata": {},
   "outputs": [],
   "source": [
    "def train(model, dataloader1, dataloader2):\n",
    "    model.train()\n",
    "    running_loss = 0\n",
    "    for i,(data1,data2) in enumerate(zip(dataloader1,dataloader2)):\n",
    "        data1                        = data1.to(DEVICE)\n",
    "        data2                        = data2.to(DEVICE)   \n",
    "        optimizer.zero_grad()\n",
    "        data = [data1,data2]\n",
    "        reconstruction1,reconstruction2,mu1,var1,mu2,var2,loss       = model(data)\n",
    "        running_loss                += loss.item()\n",
    "        loss.backward() \n",
    "        optimizer.step()\n",
    "    train_loss = running_loss/(len(dataloader1.dataset)+len(dataloader2.dataset))\n",
    "    return train_loss\n",
    "def test(model,dataloader1,dataloader2):\n",
    "    mean1_pred = []\n",
    "    var1_pred  = []\n",
    "    mean2_pred = []\n",
    "    var2_pred  = []\n",
    "    data1_val  = [] \n",
    "    data2_val  = [] \n",
    "    reconstruction1_pred=[]\n",
    "    reconstruction2_pred=[]\n",
    "    model.eval()\n",
    "    running_loss = 0.0\n",
    "    with torch.no_grad():\n",
    "        for i,(data1,data2) in enumerate(zip(dataloader1,dataloader2)):\n",
    "            data1                        = data1.to(DEVICE)\n",
    "            data2                        = data2.to(DEVICE)    \n",
    "            data = [data1,data2]\n",
    "            reconstruction1,reconstruction2,mu1,var1,mu2,var2,loss = model(data)  \n",
    "            running_loss              += loss.item()\n",
    "            mean1_pred                += [torch.mean(mu1)]\n",
    "            var1_pred                 += [torch.mean(var1)]\n",
    "            mean2_pred                += [torch.mean(mu2)]\n",
    "            var2_pred                 += [torch.mean(var2)]\n",
    "            reconstruction1_pred.append(reconstruction1)\n",
    "            reconstruction2_pred.append(reconstruction2)\n",
    "            data1_val.append(data1)\n",
    "            data2_val.append(data2)\n",
    "\n",
    "    test_loss   = running_loss/(len(dataloader1.dataset)+len(dataloader2.dataset))\n",
    "    reconstruction1_pred = torch.vstack(reconstruction1_pred)\n",
    "    reconstruction2_pred = torch.vstack(reconstruction2_pred)\n",
    "    data1_val   = torch.vstack(data1_val)\n",
    "    data2_val   = torch.vstack(data2_val)\n",
    "\n",
    "    mean1_pred  = torch.stack(mean1_pred,dim=0)\n",
    "    var1_pred   = torch.stack(var1_pred,dim=0)\n",
    "    mean1_pred  = torch.mean(mean1_pred)\n",
    "    var1_pred   = torch.mean(var1_pred)\n",
    "    mean2_pred  = torch.stack(mean2_pred,dim=0)\n",
    "    var2_pred   = torch.stack(var2_pred,dim=0)\n",
    "    mean2_pred  = torch.mean(mean2_pred)\n",
    "    var2_pred   = torch.mean(var2_pred)\n",
    "    return data1_val,data2_val,reconstruction1_pred,reconstruction2_pred,test_loss,mean1_pred,var1_pred,mean2_pred,var2_pred"
   ]
  },
  {
   "cell_type": "code",
   "execution_count": 11,
   "id": "digital-encounter",
   "metadata": {},
   "outputs": [
    {
     "name": "stderr",
     "output_type": "stream",
     "text": [
      "100%|██████████| 200/200 [01:49<00:00,  1.82it/s]"
     ]
    },
    {
     "name": "stdout",
     "output_type": "stream",
     "text": [
      "Train Loss    : 1.6598\n",
      "Test Loss     :  1.4631\n",
      "Mean Pred set1:  -0.1404\n",
      "Var  Pred set1:  0.0050\n",
      "Mean Pred set2:  2.1409\n",
      "Var  Pred set2:  0.0463\n"
     ]
    },
    {
     "name": "stderr",
     "output_type": "stream",
     "text": [
      "\n"
     ]
    }
   ],
   "source": [
    "epochs     = 200\n",
    "train_loss = []\n",
    "test_loss = []\n",
    "from tqdm import tqdm\n",
    "for epoch in tqdm(range(epochs)):\n",
    "#     print(f\"Epoch {epoch+1} of {epochs}\")\n",
    "    train_epoch_loss = train(model,train_loader_set1,train_loader_set2)\n",
    "    data1_val,data2_val,reconstruction1_pred,reconstruction2_pred,test_epoch_loss,mean1_pred,var1_pred,mean2_pred,var2_pred = test(model,test_loader_set1,test_loader_set2)\n",
    "    train_loss.append(train_epoch_loss)\n",
    "    test_loss.append(test_epoch_loss)\n",
    "#     for name, para in model.named_parameters():\n",
    "#         print(para)\n",
    "print(f\"Train Loss    : {train_epoch_loss:.4f}\")\n",
    "print(f\"Test Loss     :  {test_epoch_loss:.4f}\")\n",
    "print(f\"Mean Pred set1:  {mean1_pred:.4f}\")\n",
    "print(f\"Var  Pred set1:  {var1_pred:.4f}\")\n",
    "print(f\"Mean Pred set2:  {mean2_pred:.4f}\")\n",
    "print(f\"Var  Pred set2:  {var2_pred:.4f}\")"
   ]
  },
  {
   "cell_type": "code",
   "execution_count": 12,
   "id": "fixed-desktop",
   "metadata": {},
   "outputs": [
    {
     "data": {
      "image/png": "[encoded data removed]",
      "text/plain": [
       "<Figure size 432x144 with 2 Axes>"
      ]
     },
     "metadata": {
      "needs_background": "light"
     },
     "output_type": "display_data"
    }
   ],
   "source": [
    "flg,(ax1,ax2)=plt.subplots(1,2,figsize=(6, 2))\n",
    "ax1.plot(train_loss)\n",
    "ax1.set(xlabel='x',ylabel='loss',title='training loss')\n",
    "ax2.plot(test_loss)\n",
    "ax2.set(xlabel='x',ylabel='loss',title='test loss')\n",
    "flg.tight_layout()\n",
    "plt.show()"
   ]
  },
  {
   "cell_type": "code",
   "execution_count": 13,
   "id": "behind-montana",
   "metadata": {},
   "outputs": [],
   "source": [
    "# reducer = umap.UMAP()\n",
    "# data=torch.vstack((reconstruction1_pred.cpu(),reconstruction2_pred.cpu()))\n",
    "# embedding = reducer.fit_transform(data)\n",
    "# fig, ax = plt.subplots(figsize=(12, 10))\n",
    "# plt.scatter(embedding[:, 0], embedding[:, 1], cmap=\"Spectral\", s=4)\n",
    "# plt.setp(ax, xticks=[], yticks=[])\n",
    "# #plt.title(\"SVHN data embedded into two dimensions by UMAP\", fontsize=18)\n",
    "# ax.set_facecolor('white')\n",
    "# plt.show()"
   ]
  },
  {
   "cell_type": "code",
   "execution_count": 14,
   "id": "specific-composer",
   "metadata": {},
   "outputs": [
    {
     "data": {
      "image/png": "[encoded data removed]",
      "text/plain": [
       "<Figure size 432x288 with 2 Axes>"
      ]
     },
     "metadata": {
      "needs_background": "light"
     },
     "output_type": "display_data"
    }
   ],
   "source": [
    "reconstruction1_pred = reconstruction1_pred.cpu().detach().numpy()\n",
    "reconstruction2_pred = reconstruction2_pred.cpu().detach().numpy()\n",
    "# reconstruction1_pred =np.reshape(reconstruction1_pred.cpu().detach().numpy(),(896,2))\n",
    "# reconstruction2_pred =np.reshape(reconstruction2_pred.cpu().detach().numpy(),(896,2))\n",
    "# reconstruction1_pred =np.reshape(reconstruction1_pred,(896,2))\n",
    "# reconstruction2_pred =np.reshape(reconstruction2_pred,(896,2))\n",
    "reconstruction1_x_cord = reconstruction1_pred[:,0]\n",
    "reconstruction1_y_cord = reconstruction1_pred[:,1]\n",
    "reconstruction2_x_cord = reconstruction2_pred[:,0]\n",
    "reconstruction2_y_cord = reconstruction2_pred[:,1]\n",
    "data1_x_cord = data1_val[:,0].cpu().detach().numpy()\n",
    "data1_y_cord = data1_val[:,1].cpu().detach().numpy()\n",
    "data2_x_cord = data2_val[:,0].cpu().detach().numpy()\n",
    "data2_y_cord = data2_val[:,1].cpu().detach().numpy()\n",
    "\n",
    "fig, ax = plt.subplots(2)\n",
    "\n",
    "ax[0].plot(data1_x_cord,data1_y_cord, 'o', color='black',label='true set1')\n",
    "ax[0].plot(data2_x_cord,data2_y_cord, 'o', color='red',label='true set2')\n",
    "ax[0].legend()\n",
    "ax[1].plot(reconstruction1_x_cord,reconstruction1_y_cord, 'o', color='black',label='recon set1')\n",
    "ax[1].plot(reconstruction2_x_cord,reconstruction2_y_cord, 'o', color='red',label='recon set2')\n",
    "ax[1].legend()\n",
    "plt.show()"
   ]
  },
  {
   "cell_type": "code",
   "execution_count": 15,
   "id": "weird-registration",
   "metadata": {},
   "outputs": [
    {
     "data": {
      "image/png": "[encoded data removed]",
      "text/plain": [
       "<Figure size 432x288 with 1 Axes>"
      ]
     },
     "metadata": {
      "needs_background": "light"
     },
     "output_type": "display_data"
    }
   ],
   "source": [
    "plt.plot(data1_x_cord,data1_y_cord, 'o', color='black',label='true set1')\n",
    "plt.plot(data2_x_cord,data2_y_cord, 'o', color='red',label='true set2')\n",
    "plt.plot(reconstruction1_x_cord,reconstruction1_y_cord, 'o', color='brown',label='recon set1')\n",
    "plt.plot(reconstruction2_x_cord,reconstruction2_y_cord, 'o', color='pink',label='recon set2')\n",
    "plt.title('Reconstructed data and true data')\n",
    "plt.legend()\n",
    "plt.show()"
   ]
  },
  {
   "cell_type": "code",
   "execution_count": null,
   "id": "manufactured-insider",
   "metadata": {},
   "outputs": [],
   "source": []
  }
 ],
 "metadata": {
  "kernelspec": {
   "display_name": "achint-env2",
   "language": "python",
   "name": "achint-env2"
  },
  "language_info": {
   "codemirror_mode": {
    "name": "ipython",
    "version": 3
   },
   "file_extension": ".py",
   "mimetype": "text/x-python",
   "name": "python",
   "nbconvert_exporter": "python",
   "pygments_lexer": "ipython3",
   "version": "3.8.10"
  }
 },
 "nbformat": 4,
 "nbformat_minor": 5
}
