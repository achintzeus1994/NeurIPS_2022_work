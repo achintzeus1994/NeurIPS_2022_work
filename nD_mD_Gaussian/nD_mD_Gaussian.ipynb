{
 "cells": [
  {
   "cell_type": "code",
   "execution_count": 1,
   "id": "spatial-plane",
   "metadata": {},
   "outputs": [
    {
     "name": "stdout",
     "output_type": "stream",
     "text": [
      "importing Jupyter notebook from importance_sampler_poise.ipynb\n",
      "importing Jupyter notebook from kl_divergence_calculator.ipynb\n"
     ]
    }
   ],
   "source": [
    "import torch\n",
    "import numpy as np\n",
    "from torch.utils.data import DataLoader\n",
    "import matplotlib\n",
    "import matplotlib.pyplot as plt\n",
    "import import_ipynb\n",
    "import importance_sampler_poise\n",
    "import kl_divergence_calculator\n",
    "import torch.nn as nn\n",
    "import torch.optim as optim\n",
    "from torch.nn import functional as F  #for the activation function\n",
    "from torchviz import make_dot\n",
    "import random\n",
    "import umap\n",
    "from tqdm import tqdm"
   ]
  },
  {
   "cell_type": "code",
   "execution_count": 2,
   "id": "color-expense",
   "metadata": {},
   "outputs": [],
   "source": [
    "# def sample_data(mu1,mu2,var1,var2, nb_samples):\n",
    "#     dim1 = mu1.size()[0]\n",
    "#     dim2 = mu2.size()[0]\n",
    "#     mn1  = torch.distributions.MultivariateNormal(mu1, var1 * torch.eye(dim1))\n",
    "#     mn2  = torch.distributions.MultivariateNormal(mu2, var2 * torch.eye(dim2))\n",
    "#     return [mn1.sample([nb_samples,]), mn2.sample([nb_samples,])]\n",
    "# dim_exp = 2\n",
    "# nb_samples=5000\n",
    "# mu1  =5+torch.zeros(dim_exp)   \n",
    "# var1 =1.0\n",
    "# mu2  =-5+torch.zeros(dim_exp)   \n",
    "# var2 =1.0\n",
    "# data1,data2=sample_data(mu1,mu2,var1,var2,nb_samples)  "
   ]
  },
  {
   "cell_type": "code",
   "execution_count": 3,
   "id": "sacred-squad",
   "metadata": {},
   "outputs": [],
   "source": [
    "def sample_data(mu1,var1, nb_samples):\n",
    "    dim1 = mu1.size()[0]\n",
    "    mn1  = torch.distributions.MultivariateNormal(mu1, var1 * torch.eye(dim1))\n",
    "    return [mn1.sample([nb_samples,])]\n",
    "dim_exp = 2\n",
    "nb_samples=5000\n",
    "mu1  =8+torch.zeros(dim_exp)   \n",
    "var1 =3.0\n",
    "data1 = sample_data(mu1,var1,nb_samples) \n",
    "data1 = data1[0]\n",
    "data2 = data1-16.0"
   ]
  },
  {
   "cell_type": "code",
   "execution_count": 4,
   "id": "ultimate-reverse",
   "metadata": {},
   "outputs": [],
   "source": [
    "# def sample(mu, var, nb_samples):\n",
    "#     \"\"\"\n",
    "#     :param mu: torch.Tensor (features)\n",
    "#     :param var: torch.Tensor (features) (note: zero covariance)\n",
    "#     :return: torch.Tensor (nb_samples, features)\n",
    "#     \"\"\"\n",
    "#     out = []\n",
    "#     for i in range(nb_samples):\n",
    "#         out += [torch.normal(mu, var.sqrt())]\n",
    "#     return torch.stack(out, dim=0)\n",
    "# ## Creating synthetic datasets\n",
    "# nb_samples=5000\n",
    "# mu1  =torch.tensor(0.)   # . converts long to float\n",
    "# var1 =torch.tensor(1.0)\n",
    "# mu2  =torch.tensor(0.)   # . converts long to float\n",
    "# var2 =torch.tensor(1.0)\n",
    "\n",
    "# inp_data1=sample(mu1,var1,nb_samples)  \n",
    "# inp_data1=inp_data1.unsqueeze(0)+torch.randn_like(inp_data1)##Adding gaussian noise to data\n",
    "# inp_data1=torch.transpose(inp_data1,0,1)\n",
    "\n",
    "# inp_data2=sample(mu2,var2,nb_samples)\n",
    "# inp_data2=inp_data2.unsqueeze(0)+torch.randn_like(inp_data2)  ##Adding gaussian noise to data\n",
    "# inp_data2=torch.transpose(inp_data2,0,1)"
   ]
  },
  {
   "cell_type": "code",
   "execution_count": 5,
   "id": "intended-timer",
   "metadata": {},
   "outputs": [],
   "source": [
    "# ## for data visualization\n",
    "# data_vis1=inp_data1.numpy()\n",
    "# data_vis2=inp_data2.numpy()\n",
    "# fig, ax = plt.subplots(2,1)\n",
    "# #flg,(ax1,ax2)=plt.subplots(1,2,figsize=(6, 2))\n",
    "# #Panel a\n",
    "# n1,bins1,patches1=ax[0].hist(data_vis1,'auto',density=1)\n",
    "# y1=1/(np.sqrt(2*np.pi*var1))*np.exp(-0.5*(bins1-mu1.numpy())**2/var1)\n",
    "# ax[0].plot(bins1,y1,'--')\n",
    "# ax[0].set(xlabel='x',ylabel='p(x)')\n",
    "# #Panel b\n",
    "# n2,bins2,patches2=ax[1].hist(data_vis2,'auto',density=1)\n",
    "# y2=1/(np.sqrt(2*np.pi*var2))*np.exp(-0.5*(bins2-mu2.numpy())**2/var2)\n",
    "# ax[1].plot(bins2,y2,'--')\n",
    "# ax[1].set(xlabel='x',ylabel='p(x)')\n",
    "# plt.show()\n",
    "# print(\"mu1\",mu1)\n",
    "# print(\"var1\",var1)\n",
    "# print(\"mu2\",mu2)\n",
    "# print(\"var2\",var2)"
   ]
  },
  {
   "cell_type": "code",
   "execution_count": 6,
   "id": "divine-defensive",
   "metadata": {},
   "outputs": [],
   "source": [
    "# ## Transforming data to a higher dimension\n",
    "# \"\"\"\n",
    "# inp_data= samplesx1\n",
    "# fun_A   = 1xdim_exp\n",
    "# data    = samplesxdim_exp   (data = inp_dataxfun_A)\n",
    "# \"\"\"\n",
    "# dim_exp = 2\n",
    "# #fun_A1   = torch.normal(0, 1, size=(1, dim_exp))  ## random tensor of size dim_expxdata_samples mean=0, var=1, s\n",
    "# #fun_A2   = torch.normal(0, 1, size=(1, dim_exp))  ## random tensor of size dim_expxdata_samples mean=0, var=1, s\n",
    "# fun_A1 = torch.tensor([1,1])\n",
    "# fun_A2 = torch.tensor([1,-1])\n",
    "# data1    = inp_data1*fun_A1\n",
    "# data2    = inp_data2*fun_A2\n",
    "# x1_cord = data1[:,0]\n",
    "# y1_cord = data1[:,1]\n",
    "# x2_cord = data2[:,0]\n",
    "# y2_cord = data2[:,1]\n",
    "# plt.plot(x1_cord,y1_cord, 'o', color='black')\n",
    "# plt.plot(x2_cord,y2_cord, 'o', color='red')\n",
    "# plt.show()"
   ]
  },
  {
   "cell_type": "code",
   "execution_count": 7,
   "id": "twelve-architect",
   "metadata": {},
   "outputs": [],
   "source": [
    "# reducer = umap.UMAP()\n",
    "# data=torch.vstack((data1,data2))\n",
    "# embedding = reducer.fit_transform(data)\n",
    "# fig, ax = plt.subplots(figsize=(12, 10))\n",
    "# plt.scatter(embedding[:, 0], embedding[:, 1], cmap=\"Spectral\", s=4)\n",
    "# plt.setp(ax, xticks=[], yticks=[])\n",
    "# plt.gca().set_aspect('equal', 'datalim')\n",
    "# # plt.title(\"SVHN data embedded into two dimensions by UMAP\", fontsize=18)\n",
    "# ax.set_facecolor('white')\n",
    "# plt.show()"
   ]
  },
  {
   "cell_type": "code",
   "execution_count": 8,
   "id": "scheduled-malaysia",
   "metadata": {},
   "outputs": [],
   "source": [
    "## Hyperparameters\n",
    "batch_size = 128\n",
    "latent_dim1 = 1\n",
    "latent_dim2 = 1\n",
    "lr         = 5e-4\n",
    "device     = torch.device('cuda' if torch.cuda.is_available() else 'cpu')"
   ]
  },
  {
   "cell_type": "code",
   "execution_count": 9,
   "id": "spatial-seller",
   "metadata": {},
   "outputs": [],
   "source": [
    "## Creating synthetic dataloader\n",
    "train_loader_set1 = DataLoader(\n",
    "    data1[0:int(0.8*nb_samples),],\n",
    "    batch_size=batch_size,\n",
    "    shuffle=True,\n",
    "    drop_last=True\n",
    ")\n",
    "test_loader_set1 = DataLoader(\n",
    "    data1[int(0.8*nb_samples):,],\n",
    "    batch_size=batch_size,\n",
    "    shuffle=True,\n",
    "    drop_last=True\n",
    ")\n",
    "train_loader_set2 = DataLoader(\n",
    "    data2[0:int(0.8*nb_samples),],\n",
    "    batch_size=batch_size,\n",
    "    shuffle=True,\n",
    "    drop_last=True\n",
    ")\n",
    "test_loader_set2 = DataLoader(\n",
    "    data2[int(0.8*nb_samples):,],\n",
    "    batch_size=batch_size,\n",
    "    shuffle=True,\n",
    "    drop_last=True\n",
    ")"
   ]
  },
  {
   "cell_type": "code",
   "execution_count": 10,
   "id": "intensive-council",
   "metadata": {},
   "outputs": [],
   "source": [
    "## Neural net is like: [mu,logvar]=(relu(xA))B,x=sig((relu(zC))D)        \n",
    "class VAE(nn.Module):\n",
    "    def __init__(self,latent_dim1, latent_dim2, batch_size):\n",
    "        super(VAE,self).__init__()\n",
    "        self.latent_dim1 = latent_dim1\n",
    "        self.latent_dim2 = latent_dim2\n",
    "        self.batch_size = batch_size\n",
    "        self.kl_div                  = kl_divergence_calculator.kl_divergence(self.latent_dim1, self.latent_dim2, self.batch_size)\n",
    "        self.IS_sampler              = importance_sampler_poise.importance_sampler(self.latent_dim1, self.latent_dim2, self.batch_size)\n",
    "        self.n_IW_samples = 10\n",
    "        self.latent_dim1 = latent_dim1\n",
    "        self.latent_dim2 = latent_dim2\n",
    "        self.batch_size = batch_size\n",
    "        self.emb_dim  = 8\n",
    "        ## Encoder set1\n",
    "        self.set1_enc1 = nn.Linear(in_features = dim_exp,out_features =self.emb_dim)\n",
    "        self.set1_enc2 = nn.Linear(in_features = self.emb_dim,out_features = 2*latent_dim1)\n",
    "        ## Encoder set2\n",
    "        self.set2_enc1 = nn.Linear(in_features = dim_exp,out_features = self.emb_dim)\n",
    "        self.set2_enc2 = nn.Linear(in_features = self.emb_dim,out_features = 2*latent_dim2)\n",
    "        ## Decoder set1\n",
    "        self.set1_dec1 = nn.Linear(in_features = latent_dim1,out_features = self.emb_dim)\n",
    "        self.set1_dec2 = nn.Linear(in_features = self.emb_dim,out_features = dim_exp)\n",
    "        ## Decoder set2\n",
    "        self.set2_dec1 = nn.Linear(in_features = latent_dim2,out_features = self.emb_dim)\n",
    "        self.set2_dec2 = nn.Linear(in_features = self.emb_dim,out_features = dim_exp)\n",
    "        self.register_parameter(name='g11', param = nn.Parameter(torch.randn(latent_dim1,latent_dim1)))\n",
    "        self.register_parameter(name='g22', param = nn.Parameter(torch.randn(latent_dim1,latent_dim2)))\n",
    "        self.g12   = torch.zeros(latent_dim1,latent_dim2).to(device)\n",
    "    def weighted_mse_loss(self,weights,reconstruction,data):\n",
    "        #weights :[batch_size], reconstruction: [batch_size,2], data: [batch_size,2] , loss: #\n",
    "        loss = torch.sum(weights * ((data - reconstruction) ** 2).T)\n",
    "        return loss\n",
    "    def forward(self,x1,x2):\n",
    "        data1    = x1\n",
    "        data2    = x2\n",
    "        ## encoding\n",
    "# Modality 1\n",
    "        x1       = (self.set1_enc1(x1))\n",
    "        x1       = F.leaky_relu(self.set1_enc2(x1),inplace=True)\n",
    "        mu1      = x1[:,0]\n",
    "        mu1      = mu1.unsqueeze(0)\n",
    "        mu1      = torch.transpose(mu1,0,1)    \n",
    "        log_var1 = x1[:,1]\n",
    "        log_var1 = log_var1.unsqueeze(0)\n",
    "        log_var1 = torch.transpose(log_var1,0,1)    \n",
    "        var1     = -torch.exp(log_var1)         # lambda_2<0\n",
    "# Modality 2        \n",
    "        x2       = (self.set2_enc1(x2))\n",
    "        x2       = F.leaky_relu(self.set2_enc2(x2),inplace=True)        \n",
    "        mu2      = x2[:,0]\n",
    "        mu2      = mu2.unsqueeze(0)\n",
    "        mu2      = torch.transpose(mu2,0,1)    \n",
    "        log_var2 = x2[:,1]\n",
    "        log_var2 = log_var2.unsqueeze(0)\n",
    "        log_var2 = torch.transpose(log_var2,0,1) \n",
    "        var2     = -torch.exp(log_var2)           #lambdap_2<0\n",
    "        g22      = -torch.exp(self.g22)        \n",
    "        G1 = torch.cat((self.g11,self.g12),0)\n",
    "        G2 = torch.cat((self.g12,g22),0)\n",
    "        G  = torch.cat((G1,G2),1)\n",
    "        z1_prior,z2_prior,z1_posterior,z2_posterior,IS_weights_prior,IS_weights_post = self.IS_sampler.calc(G,mu1,var1,mu2,var2,self.n_IW_samples)\n",
    "        ## decoding\n",
    "        loss = 0\n",
    "        weighted_reconstruction1 = torch.zeros_like(data1)               #[batch_size,2]\n",
    "        weighted_reconstruction2 = torch.zeros_like(data2)\n",
    "        for i in range(self.n_IW_samples):\n",
    "            self.z1_IS_prior     = z1_prior[i]\n",
    "            self.z2_IS_prior     = z2_prior[i]\n",
    "            self.z1_IS_posterior = z1_posterior[i]\n",
    "            self.z2_IS_posterior = z2_posterior[i]\n",
    "            part_fun0,part_fun1,part_fun2 = self.kl_div.calc(G,self.z1_IS_posterior,self.z2_IS_posterior,self.z1_IS_prior,self.z2_IS_prior,mu1,var1,mu2,var2)\n",
    "            x1                   = F.leaky_relu(self.set1_dec1(self.z1_IS_posterior.unsqueeze(0)),inplace=True)\n",
    "            reconstruction1      = (self.set1_dec2(x1)).squeeze()\n",
    "            x2                   = F.leaky_relu(self.set2_dec1(self.z2_IS_posterior.unsqueeze(0)),inplace=True)\n",
    "            reconstruction2      = (self.set2_dec2(x2)).squeeze()\n",
    "            ## loss\n",
    "            MSE1 = self.weighted_mse_loss(IS_weights_post[i,:],reconstruction1, data1)\n",
    "            MSE2 = self.weighted_mse_loss(IS_weights_post[i,:],reconstruction2, data2)\n",
    "#             KLD  = torch.sum(IS_weights_post[i,:]*(torch.sum(part_fun0+part_fun1,dim=1)+part_fun2) )\n",
    "            loss = loss + MSE1 + MSE2 \n",
    "            weighted_reconstruction1 = weighted_reconstruction1 + (IS_weights_post[i,:]*reconstruction1.T).T\n",
    "            weighted_reconstruction2 = weighted_reconstruction2 + (IS_weights_post[i,:]*reconstruction2.T).T\n",
    "    \n",
    "        return weighted_reconstruction1,weighted_reconstruction2,mu1,var1,mu2,var2,loss"
   ]
  },
  {
   "cell_type": "code",
   "execution_count": 11,
   "id": "focused-discipline",
   "metadata": {},
   "outputs": [
    {
     "name": "stdout",
     "output_type": "stream",
     "text": [
      "g11\n",
      "g22\n",
      "set1_enc1.weight\n",
      "set1_enc1.bias\n",
      "set1_enc2.weight\n",
      "set1_enc2.bias\n",
      "set2_enc1.weight\n",
      "set2_enc1.bias\n",
      "set2_enc2.weight\n",
      "set2_enc2.bias\n",
      "set1_dec1.weight\n",
      "set1_dec1.bias\n",
      "set1_dec2.weight\n",
      "set1_dec2.bias\n",
      "set2_dec1.weight\n",
      "set2_dec1.bias\n",
      "set2_dec2.weight\n",
      "set2_dec2.bias\n"
     ]
    }
   ],
   "source": [
    "model = VAE(latent_dim1, latent_dim2, batch_size).to(device)\n",
    "optimizer = optim.Adam(model.parameters(),lr=lr)\n",
    "for name, para in model.named_parameters():\n",
    "    print(name)"
   ]
  },
  {
   "cell_type": "code",
   "execution_count": 12,
   "id": "adverse-defeat",
   "metadata": {},
   "outputs": [],
   "source": [
    "def train(model,dataloader1,dataloader2):\n",
    "    model.train()\n",
    "    running_loss = 0\n",
    "    for i,(data1,data2) in enumerate(zip(dataloader1,dataloader2)):\n",
    "        data1                        = data1.to(device)\n",
    "        data2                        = data2.to(device)   \n",
    "        optimizer.zero_grad()\n",
    "        reconstruction1,reconstruction2,mu1,var1,mu2,var2,loss       = model(data1,data2)\n",
    "        running_loss                += loss.item()\n",
    "        loss.backward() \n",
    "        optimizer.step()\n",
    "#         for p in model.parameters():\n",
    "#             print(p.grad.norm())\n",
    "    train_loss = running_loss/(len(dataloader1.dataset)+len(dataloader2.dataset))\n",
    "    return train_loss\n",
    "def test(model,dataloader1,dataloader2):\n",
    "    mean1_pred = []\n",
    "    var1_pred  = []\n",
    "    mean2_pred = []\n",
    "    var2_pred  = []\n",
    "    data1_val  = [] \n",
    "    data2_val  = [] \n",
    "    reconstruction1_pred=[]\n",
    "    reconstruction2_pred=[]\n",
    "    \n",
    "    model.eval()\n",
    "    running_loss = 0.0\n",
    "    with torch.no_grad():\n",
    "        for i,(data1,data2) in enumerate(zip(dataloader1,dataloader2)):\n",
    "            data1                        = data1.to(device)\n",
    "            data2                        = data2.to(device)        \n",
    "            reconstruction1,reconstruction2,mu1,var1,mu2,var2,loss = model(data1,data2)  \n",
    "            running_loss              += loss.item()\n",
    "            mean1_pred                += [torch.mean(mu1)]\n",
    "            var1_pred                 += [torch.mean(var1)]\n",
    "            mean2_pred                += [torch.mean(mu2)]\n",
    "            var2_pred                 += [torch.mean(var2)]\n",
    "            reconstruction1_pred.append(reconstruction1)\n",
    "            reconstruction2_pred.append(reconstruction2)\n",
    "            data1_val.append(data1)\n",
    "            data2_val.append(data2)\n",
    "\n",
    "    test_loss   = running_loss/(len(dataloader1.dataset)+len(dataloader2.dataset))\n",
    "    reconstruction1_pred = torch.vstack(reconstruction1_pred)\n",
    "    reconstruction2_pred = torch.vstack(reconstruction2_pred)\n",
    "    data1_val   = torch.vstack(data1_val)\n",
    "    data2_val   = torch.vstack(data2_val)\n",
    "\n",
    "    mean1_pred  = torch.stack(mean1_pred,dim=0)\n",
    "    var1_pred   = torch.stack(var1_pred,dim=0)\n",
    "    mean1_pred  = torch.mean(mean1_pred)\n",
    "    var1_pred   = torch.mean(var1_pred)\n",
    "    mean2_pred  = torch.stack(mean2_pred,dim=0)\n",
    "    var2_pred   = torch.stack(var2_pred,dim=0)\n",
    "    mean2_pred  = torch.mean(mean2_pred)\n",
    "    var2_pred   = torch.mean(var2_pred)\n",
    "    return data1_val,data2_val,reconstruction1_pred,reconstruction2_pred,test_loss,mean1_pred,var1_pred,mean2_pred,var2_pred"
   ]
  },
  {
   "cell_type": "code",
   "execution_count": 13,
   "id": "satisfactory-knight",
   "metadata": {},
   "outputs": [
    {
     "name": "stderr",
     "output_type": "stream",
     "text": [
      "100%|██████████| 80/80 [03:53<00:00,  2.92s/it]"
     ]
    },
    {
     "name": "stdout",
     "output_type": "stream",
     "text": [
      "Train Loss    : 7.6796\n",
      "Test Loss     :  6.7902\n",
      "Mean Pred set1:  11.3243\n",
      "Var  Pred set1:  -2.4169\n",
      "Mean Pred set2:  2.5028\n",
      "Var  Pred set2:  -1.1334\n"
     ]
    },
    {
     "name": "stderr",
     "output_type": "stream",
     "text": [
      "\n"
     ]
    }
   ],
   "source": [
    "epochs     = 80\n",
    "train_loss = []\n",
    "test_loss = []\n",
    "# all_data1 = torch.zeros(0,dim_exp)\n",
    "# all_data2 = torch.zeros(0,dim_exp)\n",
    "# all_reconstruction1 = torch.zeros(0,dim_exp)\n",
    "# all_reconstruction2 = torch.zeros(0,dim_exp)\n",
    "\n",
    "for epoch in tqdm(range(epochs)):\n",
    "#     print(f\"Epoch {epoch+1} of {epochs}\")\n",
    "    train_epoch_loss = train(model,train_loader_set1,train_loader_set2)\n",
    "    data1_val,data2_val,reconstruction1_pred,reconstruction2_pred,test_epoch_loss,mean1_pred,var1_pred,mean2_pred,var2_pred = test(model,test_loader_set1,test_loader_set2)\n",
    "    train_loss.append(train_epoch_loss)\n",
    "    test_loss.append(test_epoch_loss)\n",
    "#     for name, para in model.named_parameters():\n",
    "#         print(para)\n",
    "print(f\"Train Loss    : {train_epoch_loss:.4f}\")\n",
    "print(f\"Test Loss     :  {test_epoch_loss:.4f}\")\n",
    "print(f\"Mean Pred set1:  {mean1_pred:.4f}\")\n",
    "print(f\"Var  Pred set1:  {var1_pred:.4f}\")\n",
    "print(f\"Mean Pred set2:  {mean2_pred:.4f}\")\n",
    "print(f\"Var  Pred set2:  {var2_pred:.4f}\")"
   ]
  },
  {
   "cell_type": "code",
   "execution_count": 18,
   "id": "serial-irish",
   "metadata": {},
   "outputs": [
    {
     "data": {
      "image/png": "[encoded data removed]",
      "text/plain": [
       "<Figure size 432x144 with 2 Axes>"
      ]
     },
     "metadata": {
      "needs_background": "light"
     },
     "output_type": "display_data"
    }
   ],
   "source": [
    "flg,(ax1,ax2)=plt.subplots(1,2,figsize=(6, 2))\n",
    "ax1.plot(train_loss)\n",
    "ax1.set(xlabel='x',ylabel='loss',title='training loss')\n",
    "ax2.plot(test_loss)\n",
    "ax2.set(xlabel='x',ylabel='loss',title='test loss')\n",
    "flg.tight_layout()\n",
    "plt.show()"
   ]
  },
  {
   "cell_type": "code",
   "execution_count": 19,
   "id": "lesbian-isaac",
   "metadata": {},
   "outputs": [
    {
     "ename": "AttributeError",
     "evalue": "'numpy.ndarray' object has no attribute 'cpu'",
     "output_type": "error",
     "traceback": [
      "\u001b[0;31m---------------------------------------------------------------------------\u001b[0m",
      "\u001b[0;31mAttributeError\u001b[0m                            Traceback (most recent call last)",
      "\u001b[0;32m<ipython-input-19-3b700a781764>\u001b[0m in \u001b[0;36m<module>\u001b[0;34m\u001b[0m\n\u001b[1;32m      1\u001b[0m \u001b[0mreducer\u001b[0m \u001b[0;34m=\u001b[0m \u001b[0mumap\u001b[0m\u001b[0;34m.\u001b[0m\u001b[0mUMAP\u001b[0m\u001b[0;34m(\u001b[0m\u001b[0;34m)\u001b[0m\u001b[0;34m\u001b[0m\u001b[0;34m\u001b[0m\u001b[0m\n\u001b[0;32m----> 2\u001b[0;31m \u001b[0mdata\u001b[0m\u001b[0;34m=\u001b[0m\u001b[0mtorch\u001b[0m\u001b[0;34m.\u001b[0m\u001b[0mvstack\u001b[0m\u001b[0;34m(\u001b[0m\u001b[0;34m(\u001b[0m\u001b[0mreconstruction1_pred\u001b[0m\u001b[0;34m.\u001b[0m\u001b[0mcpu\u001b[0m\u001b[0;34m(\u001b[0m\u001b[0;34m)\u001b[0m\u001b[0;34m,\u001b[0m\u001b[0mreconstruction2_pred\u001b[0m\u001b[0;34m.\u001b[0m\u001b[0mcpu\u001b[0m\u001b[0;34m(\u001b[0m\u001b[0;34m)\u001b[0m\u001b[0;34m)\u001b[0m\u001b[0;34m)\u001b[0m\u001b[0;34m\u001b[0m\u001b[0;34m\u001b[0m\u001b[0m\n\u001b[0m\u001b[1;32m      3\u001b[0m \u001b[0membedding\u001b[0m \u001b[0;34m=\u001b[0m \u001b[0mreducer\u001b[0m\u001b[0;34m.\u001b[0m\u001b[0mfit_transform\u001b[0m\u001b[0;34m(\u001b[0m\u001b[0mdata\u001b[0m\u001b[0;34m)\u001b[0m\u001b[0;34m\u001b[0m\u001b[0;34m\u001b[0m\u001b[0m\n\u001b[1;32m      4\u001b[0m \u001b[0mfig\u001b[0m\u001b[0;34m,\u001b[0m \u001b[0max\u001b[0m \u001b[0;34m=\u001b[0m \u001b[0mplt\u001b[0m\u001b[0;34m.\u001b[0m\u001b[0msubplots\u001b[0m\u001b[0;34m(\u001b[0m\u001b[0mfigsize\u001b[0m\u001b[0;34m=\u001b[0m\u001b[0;34m(\u001b[0m\u001b[0;36m12\u001b[0m\u001b[0;34m,\u001b[0m \u001b[0;36m10\u001b[0m\u001b[0;34m)\u001b[0m\u001b[0;34m)\u001b[0m\u001b[0;34m\u001b[0m\u001b[0;34m\u001b[0m\u001b[0m\n\u001b[1;32m      5\u001b[0m \u001b[0mplt\u001b[0m\u001b[0;34m.\u001b[0m\u001b[0mscatter\u001b[0m\u001b[0;34m(\u001b[0m\u001b[0membedding\u001b[0m\u001b[0;34m[\u001b[0m\u001b[0;34m:\u001b[0m\u001b[0;34m,\u001b[0m \u001b[0;36m0\u001b[0m\u001b[0;34m]\u001b[0m\u001b[0;34m,\u001b[0m \u001b[0membedding\u001b[0m\u001b[0;34m[\u001b[0m\u001b[0;34m:\u001b[0m\u001b[0;34m,\u001b[0m \u001b[0;36m1\u001b[0m\u001b[0;34m]\u001b[0m\u001b[0;34m,\u001b[0m \u001b[0mcmap\u001b[0m\u001b[0;34m=\u001b[0m\u001b[0;34m\"Spectral\"\u001b[0m\u001b[0;34m,\u001b[0m \u001b[0ms\u001b[0m\u001b[0;34m=\u001b[0m\u001b[0;36m4\u001b[0m\u001b[0;34m)\u001b[0m\u001b[0;34m\u001b[0m\u001b[0;34m\u001b[0m\u001b[0m\n",
      "\u001b[0;31mAttributeError\u001b[0m: 'numpy.ndarray' object has no attribute 'cpu'"
     ]
    }
   ],
   "source": [
    "reducer = umap.UMAP()\n",
    "data=torch.vstack((reconstruction1_pred.cpu(),reconstruction2_pred.cpu()))\n",
    "embedding = reducer.fit_transform(data)\n",
    "fig, ax = plt.subplots(figsize=(12, 10))\n",
    "plt.scatter(embedding[:, 0], embedding[:, 1], cmap=\"Spectral\", s=4)\n",
    "plt.setp(ax, xticks=[], yticks=[])\n",
    "#plt.title(\"SVHN data embedded into two dimensions by UMAP\", fontsize=18)\n",
    "ax.set_facecolor('white')\n",
    "plt.show()"
   ]
  },
  {
   "cell_type": "code",
   "execution_count": 20,
   "id": "descending-lighting",
   "metadata": {},
   "outputs": [
    {
     "ename": "AttributeError",
     "evalue": "'numpy.ndarray' object has no attribute 'cpu'",
     "output_type": "error",
     "traceback": [
      "\u001b[0;31m---------------------------------------------------------------------------\u001b[0m",
      "\u001b[0;31mAttributeError\u001b[0m                            Traceback (most recent call last)",
      "\u001b[0;32m<ipython-input-20-09adc2d1fe70>\u001b[0m in \u001b[0;36m<module>\u001b[0;34m\u001b[0m\n\u001b[0;32m----> 1\u001b[0;31m \u001b[0mreconstruction1_pred\u001b[0m \u001b[0;34m=\u001b[0m \u001b[0mreconstruction1_pred\u001b[0m\u001b[0;34m.\u001b[0m\u001b[0mcpu\u001b[0m\u001b[0;34m(\u001b[0m\u001b[0;34m)\u001b[0m\u001b[0;34m.\u001b[0m\u001b[0mdetach\u001b[0m\u001b[0;34m(\u001b[0m\u001b[0;34m)\u001b[0m\u001b[0;34m.\u001b[0m\u001b[0mnumpy\u001b[0m\u001b[0;34m(\u001b[0m\u001b[0;34m)\u001b[0m\u001b[0;34m\u001b[0m\u001b[0;34m\u001b[0m\u001b[0m\n\u001b[0m\u001b[1;32m      2\u001b[0m \u001b[0mreconstruction2_pred\u001b[0m \u001b[0;34m=\u001b[0m \u001b[0mreconstruction2_pred\u001b[0m\u001b[0;34m.\u001b[0m\u001b[0mcpu\u001b[0m\u001b[0;34m(\u001b[0m\u001b[0;34m)\u001b[0m\u001b[0;34m.\u001b[0m\u001b[0mdetach\u001b[0m\u001b[0;34m(\u001b[0m\u001b[0;34m)\u001b[0m\u001b[0;34m.\u001b[0m\u001b[0mnumpy\u001b[0m\u001b[0;34m(\u001b[0m\u001b[0;34m)\u001b[0m\u001b[0;34m\u001b[0m\u001b[0;34m\u001b[0m\u001b[0m\n\u001b[1;32m      3\u001b[0m \u001b[0;31m# reconstruction1_pred =np.reshape(reconstruction1_pred.cpu().detach().numpy(),(896,2))\u001b[0m\u001b[0;34m\u001b[0m\u001b[0;34m\u001b[0m\u001b[0;34m\u001b[0m\u001b[0m\n\u001b[1;32m      4\u001b[0m \u001b[0;31m# reconstruction2_pred =np.reshape(reconstruction2_pred.cpu().detach().numpy(),(896,2))\u001b[0m\u001b[0;34m\u001b[0m\u001b[0;34m\u001b[0m\u001b[0;34m\u001b[0m\u001b[0m\n\u001b[1;32m      5\u001b[0m \u001b[0;31m# reconstruction1_pred =np.reshape(reconstruction1_pred,(896,2))\u001b[0m\u001b[0;34m\u001b[0m\u001b[0;34m\u001b[0m\u001b[0;34m\u001b[0m\u001b[0m\n",
      "\u001b[0;31mAttributeError\u001b[0m: 'numpy.ndarray' object has no attribute 'cpu'"
     ]
    }
   ],
   "source": [
    "reconstruction1_pred = reconstruction1_pred.cpu().detach().numpy()\n",
    "reconstruction2_pred = reconstruction2_pred.cpu().detach().numpy()\n",
    "# reconstruction1_pred =np.reshape(reconstruction1_pred.cpu().detach().numpy(),(896,2))\n",
    "# reconstruction2_pred =np.reshape(reconstruction2_pred.cpu().detach().numpy(),(896,2))\n",
    "# reconstruction1_pred =np.reshape(reconstruction1_pred,(896,2))\n",
    "# reconstruction2_pred =np.reshape(reconstruction2_pred,(896,2))\n",
    "reconstruction1_x_cord = reconstruction1_pred[:,0]\n",
    "reconstruction1_y_cord = reconstruction1_pred[:,1]\n",
    "reconstruction2_x_cord = reconstruction2_pred[:,0]\n",
    "reconstruction2_y_cord = reconstruction2_pred[:,1]\n",
    "data1_x_cord = data1_val[:,0].cpu().detach().numpy()\n",
    "data1_y_cord = data1_val[:,1].cpu().detach().numpy()\n",
    "data2_x_cord = data2_val[:,0].cpu().detach().numpy()\n",
    "data2_y_cord = data2_val[:,1].cpu().detach().numpy()\n",
    "\n",
    "fig, ax = plt.subplots(2)\n",
    "\n",
    "ax[0].plot(data1_x_cord,data1_y_cord, 'o', color='black',label='true set1')\n",
    "ax[0].plot(data2_x_cord,data2_y_cord, 'o', color='red',label='true set2')\n",
    "ax[0].legend()\n",
    "ax[1].plot(reconstruction1_x_cord,reconstruction1_y_cord, 'o', color='black',label='recon set1')\n",
    "ax[1].plot(reconstruction2_x_cord,reconstruction2_y_cord, 'o', color='red',label='recon set2')\n",
    "ax[1].legend()\n",
    "plt.show()"
   ]
  },
  {
   "cell_type": "code",
   "execution_count": 21,
   "id": "detected-pattern",
   "metadata": {},
   "outputs": [
    {
     "data": {
      "image/png": "[encoded data removed]",
      "text/plain": [
       "<Figure size 432x288 with 1 Axes>"
      ]
     },
     "metadata": {
      "needs_background": "light"
     },
     "output_type": "display_data"
    }
   ],
   "source": [
    "plt.plot(data1_x_cord,data1_y_cord, 'o', color='black',label='true set1')\n",
    "plt.plot(data2_x_cord,data2_y_cord, 'o', color='red',label='true set2')\n",
    "plt.plot(reconstruction1_x_cord,reconstruction1_y_cord, 'o', color='brown',label='recon set1')\n",
    "plt.plot(reconstruction2_x_cord,reconstruction2_y_cord, 'o', color='pink',label='recon set2')\n",
    "plt.title('Reconstructed data and true data')\n",
    "plt.legend()\n",
    "plt.show()"
   ]
  },
  {
   "cell_type": "code",
   "execution_count": null,
   "id": "resistant-garbage",
   "metadata": {},
   "outputs": [],
   "source": []
  }
 ],
 "metadata": {
  "kernelspec": {
   "display_name": "achint-env2",
   "language": "python",
   "name": "achint-env2"
  },
  "language_info": {
   "codemirror_mode": {
    "name": "ipython",
    "version": 3
   },
   "file_extension": ".py",
   "mimetype": "text/x-python",
   "name": "python",
   "nbconvert_exporter": "python",
   "pygments_lexer": "ipython3",
   "version": "3.8.10"
  }
 },
 "nbformat": 4,
 "nbformat_minor": 5
}
